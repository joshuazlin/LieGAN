{
 "cells": [
  {
   "cell_type": "code",
   "execution_count": 1,
   "metadata": {},
   "outputs": [],
   "source": [
    "import lmdb"
   ]
  },
  {
   "cell_type": "code",
   "execution_count": 22,
   "metadata": {},
   "outputs": [],
   "source": [
    "from PIL import Image"
   ]
  },
  {
   "cell_type": "code",
   "execution_count": 24,
   "metadata": {},
   "outputs": [],
   "source": [
    "import io"
   ]
  },
  {
   "cell_type": "code",
   "execution_count": 2,
   "metadata": {},
   "outputs": [],
   "source": [
    "env = lmdb.open(\"/data1/users/jzlin/ML_DATASETS/lsun/bedroom_train_lmdb\")"
   ]
  },
  {
   "cell_type": "code",
   "execution_count": 32,
   "metadata": {},
   "outputs": [
    {
     "name": "stdout",
     "output_type": "stream",
     "text": [
      "{'leaf_pages': 83722, 'entries': 3033042, 'psize': 4096, 'depth': 4, 'branch_pages': 1184, 'overflow_pages': 13129838}\n"
     ]
    }
   ],
   "source": [
    "with env.begin() as txn:\n",
    "    #txn = env.begin()\n",
    "    cursor = txn.cursor()\n",
    "    print(txn.stat())\n",
    "    \n",
    "    if not cursor.set_range('50234'.encode()): # Position at first key >= '5'.\n",
    "         print('Not found!')\n",
    "    else:\n",
    "         for key, value in cursor: # Iterate from first key >= '5'.\n",
    "            \n",
    "            \n",
    "            buf = io.BytesIO()\n",
    "            buf.write(txn.get(key))\n",
    "            buf.seek(0)\n",
    "            img = Image.open(buf).convert('RGB')\n",
    "            \n",
    "            #value.decode()\n",
    "            img.show()\n",
    "            \n",
    "            #print((key,value.decode('utf-16')))\n",
    "            break"
   ]
  },
  {
   "cell_type": "code",
   "execution_count": null,
   "metadata": {},
   "outputs": [],
   "source": []
  }
 ],
 "metadata": {
  "kernelspec": {
   "display_name": "Python 3",
   "language": "python",
   "name": "python3"
  },
  "language_info": {
   "codemirror_mode": {
    "name": "ipython",
    "version": 3
   },
   "file_extension": ".py",
   "mimetype": "text/x-python",
   "name": "python",
   "nbconvert_exporter": "python",
   "pygments_lexer": "ipython3",
   "version": "3.5.2"
  }
 },
 "nbformat": 4,
 "nbformat_minor": 4
}
